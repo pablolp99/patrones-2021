{
 "cells": [
  {
   "cell_type": "code",
   "execution_count": 1,
   "id": "a2c0004f-0eb0-414f-8a51-5cf300d8d7f3",
   "metadata": {},
   "outputs": [],
   "source": [
    "import numpy as np\n",
    "import pandas as pd\n",
    "from pandas.plotting import scatter_matrix\n",
    "\n",
    "from sklearn.base import BaseEstimator, TransformerMixin\n",
    "from sklearn.compose import ColumnTransformer\n",
    "from sklearn.impute import SimpleImputer\n",
    "from sklearn.metrics import mean_squared_error\n",
    "from sklearn.model_selection import StratifiedShuffleSplit, GridSearchCV, cross_val_score\n",
    "from sklearn.linear_model import Ridge, RidgeCV, Lasso, LassoCV, ElasticNet, ElasticNetCV\n",
    "from sklearn.pipeline import Pipeline\n",
    "from sklearn.preprocessing import StandardScaler\n",
    "from sklearn.preprocessing import OneHotEncoder\n",
    "\n",
    "%matplotlib inline\n",
    "import matplotlib\n",
    "import matplotlib.pyplot as plt\n",
    "import seaborn as sns\n",
    "\n",
    "# from get_data import *"
   ]
  },
  {
   "cell_type": "code",
   "execution_count": 2,
   "id": "f13a6686-99cb-41a5-9d2a-61a67c98573d",
   "metadata": {},
   "outputs": [],
   "source": [
    "import os\n",
    "import tarfile\n",
    "import urllib\n",
    "\n",
    "DOWNLOAD_ROOT = \"https://raw.githubusercontent.com/ageron/handson-ml2/master/\"\n",
    "HOUSING_URL = DOWNLOAD_ROOT + \"datasets/housing/housing.tgz\"\n",
    "\n",
    "def fetch_housing_data(housing_url=HOUSING_URL, housing_path=\"./\"):\n",
    "    os.makedirs(housing_path, exist_ok=True)\n",
    "    tgz_path = os.path.join(housing_path, \"housing.tgz\")\n",
    "    urllib.request.urlretrieve(housing_url, tgz_path)\n",
    "    housing_tgz = tarfile.open(tgz_path)\n",
    "    housing_tgz.extractall(path=housing_path)\n",
    "    housing_tgz.close()"
   ]
  },
  {
   "cell_type": "code",
   "execution_count": 3,
   "id": "d1e1d0fc-b3a6-4b2e-a4d5-bdb094aab713",
   "metadata": {},
   "outputs": [],
   "source": [
    "fetch_housing_data()\n",
    "housing = pd.read_csv(\"./housing.csv\")"
   ]
  },
  {
   "cell_type": "markdown",
   "id": "2929d1a7-f0b3-424a-844c-e8062ba9e334",
   "metadata": {},
   "source": [
    "## Data Enrichment"
   ]
  },
  {
   "cell_type": "code",
   "execution_count": 5,
   "id": "cea00396-2b01-484f-8763-8f84a905a608",
   "metadata": {
    "tags": []
   },
   "outputs": [],
   "source": [
    "def full_pipeline(housing):\n",
    "    # data enhancing\n",
    "    housing[\"rooms_per_household\"] = housing[\"total_rooms\"] / housing[\"households\"]\n",
    "    housing[\"bedrooms_to_rooms_ratio\"] = housing[\"total_bedrooms\"] / housing[\"total_rooms\"]\n",
    "    housing[\"population_per_household\"] = housing[\"population\"] / housing[\"households\"]\n",
    "    housing[\"income_category\"] = pd.cut(housing[\"median_income\"],\n",
    "                                        bins=[0., 1.5, 3., 4.5, 6., np.inf],\n",
    "                                        labels=[1,2,3,4,5])\n",
    "\n",
    "    split = StratifiedShuffleSplit(n_splits=1, test_size=0.2, random_state=42)\n",
    "    for train_index, test_index in split.split(housing, housing[\"income_category\"]):\n",
    "        strat_train_set = housing.loc[train_index]\n",
    "        strat_test_set = housing.loc[test_index]\n",
    "\n",
    "    train_data, train_labels = create_data_and_labels(strat_train_set)\n",
    "    test_data, test_labels = create_data_and_labels(strat_test_set)\n",
    "        \n",
    "    return train_data, train_labels, test_data, test_labels\n",
    "\n",
    "def create_data_and_labels(data_set):\n",
    "    housing_train = data_set.drop(\"median_house_value\", axis=1)\n",
    "    housing_labels = data_set[\"median_house_value\"].copy()\n",
    "\n",
    "    imputer = SimpleImputer(strategy=\"median\")\n",
    "    housing_num = housing_train.drop(\"ocean_proximity\", axis=1)\n",
    "\n",
    "    num_pipeline = Pipeline([\n",
    "        ('imputer', SimpleImputer(strategy=\"median\")),\n",
    "        ('std_scaler', StandardScaler()),\n",
    "     ])\n",
    "\n",
    "    num_attribs = list(housing_num)\n",
    "    cat_attribs = [\"ocean_proximity\"]\n",
    "\n",
    "    full_pipeline = ColumnTransformer([\n",
    "        (\"num\", num_pipeline, num_attribs),\n",
    "        (\"cat\", OneHotEncoder(), cat_attribs),\n",
    "    ])\n",
    "\n",
    "    housing_prepared = full_pipeline.fit_transform(housing_train)\n",
    "    return housing_prepared, housing_labels"
   ]
  },
  {
   "cell_type": "code",
   "execution_count": 6,
   "id": "eb588583-2980-4edf-b2c9-a44463377b3d",
   "metadata": {},
   "outputs": [],
   "source": [
    "train_data, train_labels, test_data, test_labels = full_pipeline(housing)"
   ]
  },
  {
   "cell_type": "markdown",
   "id": "8e8db5e8-8ac8-4ed5-946a-56d48ecb6d4a",
   "metadata": {},
   "source": [
    "# Models"
   ]
  },
  {
   "cell_type": "markdown",
   "id": "822d4ad2-c71a-4d0f-bef3-4d0516c1cf59",
   "metadata": {},
   "source": [
    "## Parametres and models"
   ]
  },
  {
   "cell_type": "code",
   "execution_count": 7,
   "id": "f7e1c710-4cd6-4932-b5f9-1d225bd7352c",
   "metadata": {},
   "outputs": [],
   "source": [
    "from sklearn.model_selection import GridSearchCV\n",
    "from sklearn.model_selection import RepeatedKFold"
   ]
  },
  {
   "cell_type": "code",
   "execution_count": 11,
   "id": "2656a15e-4a1d-4775-87a7-75bbc8650c39",
   "metadata": {},
   "outputs": [],
   "source": [
    "CV = 10\n",
    "N_REPEATS = 3\n",
    "\n",
    "RIDGE_ALPHAS = (list(np.linspace(0.1, 1.0, num=5)) + [10] + list(np.linspace(2.0, 100.0, num=5)))\n",
    "RIDGE_ALPHAS.sort()\n",
    "\n",
    "MAX_ITER = 10000\n",
    "\n",
    "L1_RATIO = np.arange(0.1, 1.01, 0.02)"
   ]
  },
  {
   "cell_type": "markdown",
   "id": "b01e5bfe-3f03-4bc8-93fa-123b7b4b037b",
   "metadata": {},
   "source": [
    "## RidgeCV"
   ]
  },
  {
   "cell_type": "code",
   "execution_count": 12,
   "id": "c523f55a-43a5-417c-b61b-b5f138105900",
   "metadata": {},
   "outputs": [],
   "source": [
    "ridge_regressor = Ridge()\n",
    "ridge_cv = RepeatedKFold(n_splits=CV, n_repeats=N_REPEATS, random_state=42)\n",
    "# ridgecv_regressor.fit(housing_prepared, housing_labels)\n",
    "ridge_grid = dict()\n",
    "ridge_grid['alpha'] = RIDGE_ALPHAS\n",
    "ridge_search = GridSearchCV(ridge_regressor, ridge_grid, scoring='neg_root_mean_squared_error', cv=ridge_cv, n_jobs=-1)\n",
    "ridge_results = ridge_search.fit(train_data, train_labels)"
   ]
  },
  {
   "cell_type": "code",
   "execution_count": 13,
   "id": "19f614da-a9f4-4e09-a262-1eb945e554bb",
   "metadata": {},
   "outputs": [],
   "source": [
    "ridge_model = ridge_results.best_estimator_"
   ]
  },
  {
   "cell_type": "markdown",
   "id": "8db6a914-86ad-436e-a355-db3dd85bdef6",
   "metadata": {},
   "source": [
    "## LassoCV"
   ]
  },
  {
   "cell_type": "code",
   "execution_count": 14,
   "id": "0243323d-20ad-4bbc-829c-0fda50ca2061",
   "metadata": {},
   "outputs": [
    {
     "name": "stdout",
     "output_type": "stream",
     "text": [
      "Fitting 30 folds for each of 11 candidates, totalling 330 fits\n"
     ]
    }
   ],
   "source": [
    "lasso_regressor = Lasso(max_iter=MAX_ITER)\n",
    "lasso_cv = RepeatedKFold(n_splits=CV, n_repeats=N_REPEATS, random_state=42)\n",
    "# ridgecv_regressor.fit(housing_prepared, housing_labels)\n",
    "lasso_grid = dict()\n",
    "lasso_grid['alpha'] = RIDGE_ALPHAS\n",
    "lasso_search = GridSearchCV(lasso_regressor, lasso_grid, scoring='neg_root_mean_squared_error', cv=lasso_cv, n_jobs=-1, verbose=3)\n",
    "lasso_results = lasso_search.fit(train_data, train_labels)"
   ]
  },
  {
   "cell_type": "code",
   "execution_count": 15,
   "id": "3c6a4392-4641-44f3-aec1-b0e2aada9310",
   "metadata": {},
   "outputs": [],
   "source": [
    "lasso_model = lasso_results.best_estimator_"
   ]
  },
  {
   "cell_type": "markdown",
   "id": "602333f7-7f68-4ec0-9817-e19df9e59bac",
   "metadata": {},
   "source": [
    "## ElasticNetCV"
   ]
  },
  {
   "cell_type": "code",
   "execution_count": null,
   "id": "e8a67967-96cc-4412-bea6-0efd5e8c0a53",
   "metadata": {},
   "outputs": [],
   "source": [
    "en_regressor = ElasticNet(max_iter=MAX_ITER)\n",
    "en_cv = RepeatedKFold(n_splits=CV, n_repeats=N_REPEATS, random_state=42)\n",
    "# ridgecv_regressor.fit(housing_prepared, housing_labels)\n",
    "en_grid = dict()\n",
    "en_grid['alpha'] = RIDGE_ALPHAS\n",
    "en_grid['l1_ratio'] = L1_RATIO\n",
    "en_search = GridSearchCV(en_regressor, en_grid, scoring='neg_root_mean_squared_error', cv=en_cv, n_jobs=-1, verbose=3)\n",
    "en_results = en_search.fit(train_data, train_labels)"
   ]
  },
  {
   "cell_type": "code",
   "execution_count": 17,
   "id": "a622e144-6a3f-4fb0-aca9-80452d5e1a27",
   "metadata": {},
   "outputs": [],
   "source": [
    "enet_model = en_results.best_estimator_"
   ]
  },
  {
   "cell_type": "markdown",
   "id": "65bff760-40bf-4e64-9c1e-4363c4a88030",
   "metadata": {},
   "source": [
    "---\n",
    "# Testing on test set"
   ]
  },
  {
   "cell_type": "code",
   "execution_count": 18,
   "id": "05d38df4-69f3-447c-a6af-af0fef15d883",
   "metadata": {},
   "outputs": [
    {
     "name": "stdout",
     "output_type": "stream",
     "text": [
      "RMSE: 66798.37872583515\n"
     ]
    }
   ],
   "source": [
    "ridge_train_var = ridge_model.predict(test_data)\n",
    "print(\"RMSE:\", np.sqrt(((ridge_train_var - test_labels)**2).mean()))"
   ]
  },
  {
   "cell_type": "markdown",
   "id": "c790c805-a919-4ade-83f1-bc82394f185b",
   "metadata": {},
   "source": [
    "### Lasso"
   ]
  },
  {
   "cell_type": "code",
   "execution_count": 19,
   "id": "34f1cad1-c0a1-41a7-b89b-3c1224d93763",
   "metadata": {},
   "outputs": [
    {
     "name": "stdout",
     "output_type": "stream",
     "text": [
      "RMSE: 66781.0087126069\n"
     ]
    }
   ],
   "source": [
    "lasso_train_var = lasso_model.predict(test_data)\n",
    "print(\"RMSE:\", np.sqrt(((lasso_train_var - test_labels)**2).mean()))"
   ]
  },
  {
   "cell_type": "markdown",
   "id": "8a37eb90-c978-4ee5-a50a-8b52f6a6cf34",
   "metadata": {},
   "source": [
    "### ElasticNet"
   ]
  },
  {
   "cell_type": "code",
   "execution_count": 20,
   "id": "a5785658-ad6f-4104-9ac2-d7b47cd816f5",
   "metadata": {},
   "outputs": [
    {
     "name": "stdout",
     "output_type": "stream",
     "text": [
      "RMSE: 66807.11030167514\n"
     ]
    }
   ],
   "source": [
    "enet_train_var = enet_model.predict(test_data)\n",
    "print(\"RMSE:\", np.sqrt(((enet_train_var - test_labels)**2).mean()))"
   ]
  }
 ],
 "metadata": {
  "kernelspec": {
   "display_name": "Python 3",
   "language": "python",
   "name": "python3"
  },
  "language_info": {
   "codemirror_mode": {
    "name": "ipython",
    "version": 3
   },
   "file_extension": ".py",
   "mimetype": "text/x-python",
   "name": "python",
   "nbconvert_exporter": "python",
   "pygments_lexer": "ipython3",
   "version": "3.8.5"
  }
 },
 "nbformat": 4,
 "nbformat_minor": 5
}
